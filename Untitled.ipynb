{
 "cells": [
  {
   "cell_type": "code",
   "execution_count": 21,
   "metadata": {
    "collapsed": false
   },
   "outputs": [
    {
     "name": "stdout",
     "output_type": "stream",
     "text": [
      "\u001b[31mFAIL\u001b[0m - Пункт меню \"Информация в соответствии с Указанием ЦБ РФ № 3194-У\" не найден (http://www.vtb.ru/businrate_cards/)\n"
     ]
    }
   ],
   "source": [
    "from selenium import webdriver\n",
    "from selenium.webdriver.common.keys import Keys\n",
    "\n",
    "driver = webdriver.Chrome(r'C:\\chromedriver.exe')\n",
    "\n",
    "try:\n",
    "    #elem = driver.find_elements_by_xpath(\"//*[contains(text(), 'Информация в соответствии с Указанием ЦБ РФ № 3194-У')]\")\n",
    "    elem = driver.find_element_by_link_text(u'''3194''')\n",
    "    print (dir(elem))\n",
    "    elem.click()\n",
    "except:\n",
    "    print ('\\x1b[31mFAIL\\x1b[0m - Пункт меню \"Информация в соответствии с Указанием ЦБ РФ № 3194-У\" не найден (' + page + ')')"
   ]
  },
  {
   "cell_type": "code",
   "execution_count": null,
   "metadata": {
    "collapsed": true
   },
   "outputs": [],
   "source": []
  }
 ],
 "metadata": {
  "kernelspec": {
   "display_name": "Python 3",
   "language": "python",
   "name": "python3"
  },
  "language_info": {
   "codemirror_mode": {
    "name": "ipython",
    "version": 3
   },
   "file_extension": ".py",
   "mimetype": "text/x-python",
   "name": "python",
   "nbconvert_exporter": "python",
   "pygments_lexer": "ipython3",
   "version": "3.5.1"
  }
 },
 "nbformat": 4,
 "nbformat_minor": 0
}
