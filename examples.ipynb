{
 "cells": [
  {
   "cell_type": "code",
   "execution_count": 2,
   "metadata": {
    "collapsed": true
   },
   "outputs": [],
   "source": [
    "from lib import *"
   ]
  },
  {
   "cell_type": "code",
   "execution_count": 3,
   "metadata": {
    "collapsed": false
   },
   "outputs": [
    {
     "name": "stdout",
     "output_type": "stream",
     "text": [
      "Тест Пресс-релиза\n",
      "\u001b[32mSUCCESS\u001b[0m - Успешный тест страницы http://www.vtb.ru/group/press/news/releases/518382/, код 200\n",
      "None\n",
      "\u001b[32mSUCCESS\u001b[0m - Успешный тест страницы http://www.vtb.ru/group/press/news/releases/518382/ на title\n",
      "None\n",
      "\u001b[32mSUCCESS\u001b[0m - Успешный тест страницы http://www.vtb.ru/group/press/news/releases/518382/ на количество h1\n",
      "None\n",
      "\u001b[32mSUCCESS\u001b[0m - Успешный тест страницы http://www.vtb.ru/group/press/news/releases/518382/ на текст h1\n",
      "None\n",
      "\u001b[32mSUCCESS\u001b[0m - Пункт меню \"Информация в соответствии с Указанием ЦБ РФ № 3194-У\" не найден (http://www.vtb.ru/group/press/news/releases/518382/)\n",
      "None\n",
      "\u001b[32mSUCCESS\u001b[0m - всплывающее окно со списком городов/стран вызывается переключателем города (http://www.vtb.ru/group/press/news/releases/518382/)\n",
      "None\n"
     ]
    }
   ],
   "source": [
    "print ('Тест Пресс-релиза')\n",
    "page = 'http://www.vtb.ru/group/press/news/releases/518382/'\n",
    "titleText = 'ВТБ приступит к размещению однодневных облигаций на Московской бирже'\n",
    "h1Text = 'ВТБ приступит к размещению однодневных облигаций на Московской бирже'\n",
    "t = test(page, titleText, h1Text)\n",
    "print (t.test_200())\n",
    "print (t.test_title())\n",
    "print (t.test_h1_count())\n",
    "print (t.test_h1_text())\n",
    "print (t.test_CB3194(False))\n",
    "print (t.test_CiteChange())\n",
    "t.close()"
   ]
  },
  {
   "cell_type": "code",
   "execution_count": 4,
   "metadata": {
    "collapsed": false
   },
   "outputs": [
    {
     "name": "stdout",
     "output_type": "stream",
     "text": [
      "Тест Главной\n",
      "\u001b[32mSUCCESS\u001b[0m - Успешный тест страницы http://www.vtb.ru/, код 200\n",
      "None\n",
      "\u001b[32mSUCCESS\u001b[0m - Успешный тест страницы http://www.vtb.ru/ на title\n",
      "True\n",
      "\u001b[32mSUCCESS\u001b[0m - Успешный тест страницы http://www.vtb.ru/ на количество h1\n",
      "True\n",
      "\u001b[32mSUCCESS\u001b[0m - 1-я вкладка верхнего меню выделена (http://www.vtb.ru/)\n",
      "True\n",
      "\u001b[32mSUCCESS\u001b[0m - Пункт меню \"Информация в соответствии с Указанием ЦБ РФ № 3194-У\" найден.\n",
      "        Клик вызывает блок \"Информация о максимальных процентных ставках\", который можно закрыть. http://www.vtb.ru/\n",
      "True\n",
      "\u001b[32mSUCCESS\u001b[0m - всплывающее окно со списком городов/стран вызывается переключателем города (http://www.vtb.ru/)\n",
      "True\n"
     ]
    }
   ],
   "source": [
    "print ('Тест Главной')\n",
    "page = 'http://www.vtb.ru/'\n",
    "titleText = \"Банк ВТБ - официальный сайт международной финансовой группы ВТБ\"\n",
    "t = test_MainVTBru(page, titleText)\n",
    "print (t.test_200())\n",
    "print (t.test_title(r = True))\n",
    "print (t.test_h1_count(r = True))\n",
    "print (t.FirstMenuPoint(r = True))\n",
    "print (t.test_CB3194(True, r = True))\n",
    "print (t.test_CiteChange(r = True))\n",
    "t.close()"
   ]
  },
  {
   "cell_type": "code",
   "execution_count": 5,
   "metadata": {
    "collapsed": false
   },
   "outputs": [
    {
     "name": "stdout",
     "output_type": "stream",
     "text": [
      "Тест 404\n",
      "\u001b[31mFAIL\u001b[0m - Не открывается страница http://www.vtb.ru/404.php, код 404\n",
      "None\n",
      "\u001b[32mSUCCESS\u001b[0m - Успешный тест страницы ошибки http://www.vtb.ru/404.php, код 404\n",
      "None\n",
      "\n",
      "Тест 404 (город не активен)\n",
      "\u001b[32mSUCCESS\u001b[0m - Успешный тест страницы ошибки http://www.vtb.ru/group/contacts/geography/vietnam/hanoi/, код 404\n",
      "None\n",
      "\n",
      "Тест 404 (точка в неактивном городе)\n",
      "\u001b[32mSUCCESS\u001b[0m - Успешный тест страницы ошибки http://www.vtb.ru/group/contacts/geography/vietnam/hanoi/212908/, код 404\n",
      "None\n"
     ]
    }
   ],
   "source": [
    "print ('Тест 404')\n",
    "page = 'http://www.vtb.ru/404.php'\n",
    "titleText = \"Банк ВТБ - официальный сайт международной финансовой группы ВТБ\"\n",
    "t = test(page, titleText)\n",
    "print (t.test_200())\n",
    "print (t.test_404())\n",
    "t.close()\n",
    "\n",
    "\n",
    "print ()\n",
    "\n",
    "print ('Тест 404 (город не активен)')\n",
    "page = 'http://www.vtb.ru/group/contacts/geography/vietnam/hanoi/'\n",
    "titleText = \"Банкоматы ВТБ, отделения и филиалы группы ВТБ\"\n",
    "t = test(page, titleText)\n",
    "print (t.test_404())\n",
    "t.close()\n",
    "\n",
    "\n",
    "print ()\n",
    "\n",
    "print ('Тест 404 (точка в неактивном городе)')\n",
    "page = 'http://www.vtb.ru/group/contacts/geography/vietnam/hanoi/212908/'\n",
    "titleText = \"Банкоматы ВТБ, отделения и филиалы группы ВТБ\"\n",
    "t = test(page, titleText)\n",
    "print (t.test_404())\n",
    "t.close()"
   ]
  },
  {
   "cell_type": "code",
   "execution_count": null,
   "metadata": {
    "collapsed": true
   },
   "outputs": [],
   "source": []
  }
 ],
 "metadata": {
  "kernelspec": {
   "display_name": "Python 3",
   "language": "python",
   "name": "python3"
  },
  "language_info": {
   "codemirror_mode": {
    "name": "ipython",
    "version": 3
   },
   "file_extension": ".py",
   "mimetype": "text/x-python",
   "name": "python",
   "nbconvert_exporter": "python",
   "pygments_lexer": "ipython3",
   "version": "3.5.1"
  }
 },
 "nbformat": 4,
 "nbformat_minor": 0
}
